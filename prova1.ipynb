{
 "cells": [
  {
   "cell_type": "code",
   "execution_count": 1,
   "outputs": [],
   "source": [
    "import pandas as pd\n",
    "import numpy as np\n",
    "import matplotlib.pyplot as plt"
   ],
   "metadata": {
    "collapsed": false
   }
  },
  {
   "cell_type": "markdown",
   "source": [
    "# Questão 5"
   ],
   "metadata": {
    "collapsed": false
   }
  },
  {
   "cell_type": "code",
   "execution_count": 2,
   "outputs": [
    {
     "data": {
      "text/plain": "   P (atm)  T (K)\n0     0.87    299\n1     0.93    306\n2     1.02    301\n3     1.04    298\n4     0.99    300\n5     0.94    302\n6     1.00    302\n7     0.90    304\n8     1.01    301\n9     0.96    297",
      "text/html": "<div>\n<style scoped>\n    .dataframe tbody tr th:only-of-type {\n        vertical-align: middle;\n    }\n\n    .dataframe tbody tr th {\n        vertical-align: top;\n    }\n\n    .dataframe thead th {\n        text-align: right;\n    }\n</style>\n<table border=\"1\" class=\"dataframe\">\n  <thead>\n    <tr style=\"text-align: right;\">\n      <th></th>\n      <th>P (atm)</th>\n      <th>T (K)</th>\n    </tr>\n  </thead>\n  <tbody>\n    <tr>\n      <th>0</th>\n      <td>0.87</td>\n      <td>299</td>\n    </tr>\n    <tr>\n      <th>1</th>\n      <td>0.93</td>\n      <td>306</td>\n    </tr>\n    <tr>\n      <th>2</th>\n      <td>1.02</td>\n      <td>301</td>\n    </tr>\n    <tr>\n      <th>3</th>\n      <td>1.04</td>\n      <td>298</td>\n    </tr>\n    <tr>\n      <th>4</th>\n      <td>0.99</td>\n      <td>300</td>\n    </tr>\n    <tr>\n      <th>5</th>\n      <td>0.94</td>\n      <td>302</td>\n    </tr>\n    <tr>\n      <th>6</th>\n      <td>1.00</td>\n      <td>302</td>\n    </tr>\n    <tr>\n      <th>7</th>\n      <td>0.90</td>\n      <td>304</td>\n    </tr>\n    <tr>\n      <th>8</th>\n      <td>1.01</td>\n      <td>301</td>\n    </tr>\n    <tr>\n      <th>9</th>\n      <td>0.96</td>\n      <td>297</td>\n    </tr>\n  </tbody>\n</table>\n</div>"
     },
     "execution_count": 2,
     "metadata": {},
     "output_type": "execute_result"
    }
   ],
   "source": [
    "data = {'P (atm)': [0.87, 0.93, 1.02, 1.04, 0.99, 0.94, 1.00, 0.90, 1.01, 0.96],\n",
    "        'T (K)': [299, 306, 301, 298, 300, 302, 302, 304, 301, 297]}\n",
    "\n",
    "df = pd.DataFrame(data)\n",
    "df"
   ],
   "metadata": {
    "collapsed": false
   }
  },
  {
   "cell_type": "code",
   "execution_count": 3,
   "outputs": [
    {
     "data": {
      "text/plain": "P (atm)    0.052574\nT (K)      2.569047\ndtype: float64"
     },
     "execution_count": 3,
     "metadata": {},
     "output_type": "execute_result"
    }
   ],
   "source": [
    "# O método numpy.std calcula o desvio padrão de um conjunto\n",
    "std = np.std(df)\n",
    "std"
   ],
   "metadata": {
    "collapsed": false
   }
  },
  {
   "cell_type": "code",
   "execution_count": 4,
   "outputs": [
    {
     "data": {
      "text/plain": "P (atm)      0.97\nT (K)      301.00\ndtype: float64"
     },
     "execution_count": 4,
     "metadata": {},
     "output_type": "execute_result"
    }
   ],
   "source": [
    "# O método numpy.mean calcula a média de todos os valores do conjunto\n",
    "mean = np.round(np.mean(df, axis=0), decimals=2)\n",
    "mean"
   ],
   "metadata": {
    "collapsed": false
   }
  },
  {
   "cell_type": "markdown",
   "source": [
    "Podemos escrever a Pressão da seguinte forma:\n",
    "$$0,97 \\pm 0,05$$"
   ],
   "metadata": {
    "collapsed": false
   }
  },
  {
   "cell_type": "markdown",
   "source": [
    "E a temperatura:\n",
    "$$301 \\pm 2,56$$"
   ],
   "metadata": {
    "collapsed": false
   }
  },
  {
   "cell_type": "markdown",
   "source": [
    "# Questão 6"
   ],
   "metadata": {
    "collapsed": false
   }
  },
  {
   "cell_type": "code",
   "execution_count": 5,
   "outputs": [
    {
     "data": {
      "text/plain": "   v      i\n0  1   4.80\n1  2   7.15\n2  3   9.20\n3  4  11.10",
      "text/html": "<div>\n<style scoped>\n    .dataframe tbody tr th:only-of-type {\n        vertical-align: middle;\n    }\n\n    .dataframe tbody tr th {\n        vertical-align: top;\n    }\n\n    .dataframe thead th {\n        text-align: right;\n    }\n</style>\n<table border=\"1\" class=\"dataframe\">\n  <thead>\n    <tr style=\"text-align: right;\">\n      <th></th>\n      <th>v</th>\n      <th>i</th>\n    </tr>\n  </thead>\n  <tbody>\n    <tr>\n      <th>0</th>\n      <td>1</td>\n      <td>4.80</td>\n    </tr>\n    <tr>\n      <th>1</th>\n      <td>2</td>\n      <td>7.15</td>\n    </tr>\n    <tr>\n      <th>2</th>\n      <td>3</td>\n      <td>9.20</td>\n    </tr>\n    <tr>\n      <th>3</th>\n      <td>4</td>\n      <td>11.10</td>\n    </tr>\n  </tbody>\n</table>\n</div>"
     },
     "execution_count": 5,
     "metadata": {},
     "output_type": "execute_result"
    }
   ],
   "source": [
    "data = {\n",
    "    'v': [1, 2, 3, 4],\n",
    "    'i': ['4,8', '7,15', '9,2', '11,1']\n",
    "}\n",
    "\n",
    "df = pd.DataFrame(data)\n",
    "\n",
    "# converter a coluna 'i' de string para float\n",
    "df['i'] = df['i'].str.replace(',', '.').astype(float)\n",
    "\n",
    "df"
   ],
   "metadata": {
    "collapsed": false
   }
  },
  {
   "cell_type": "code",
   "execution_count": 6,
   "outputs": [
    {
     "data": {
      "text/plain": "[<matplotlib.lines.Line2D at 0x7f37514891e0>]"
     },
     "execution_count": 6,
     "metadata": {},
     "output_type": "execute_result"
    },
    {
     "data": {
      "text/plain": "<Figure size 640x480 with 1 Axes>",
      "image/png": "[encoded data removed]"
     },
     "metadata": {},
     "output_type": "display_data"
    }
   ],
   "source": [
    "plt.plot(df[\"v\"], df[\"i\"], \"ro-\")"
   ],
   "metadata": {
    "collapsed": false
   }
  },
  {
   "cell_type": "markdown",
   "source": [
    "# Questão 7"
   ],
   "metadata": {
    "collapsed": false
   }
  },
  {
   "cell_type": "code",
   "execution_count": 7,
   "outputs": [
    {
     "data": {
      "text/plain": "     t       p\n0  273   4.579\n1  278   6.543\n2  283   9.209\n3  288  12.788\n5  289  23.756\n4  293  17.535",
      "text/html": "<div>\n<style scoped>\n    .dataframe tbody tr th:only-of-type {\n        vertical-align: middle;\n    }\n\n    .dataframe tbody tr th {\n        vertical-align: top;\n    }\n\n    .dataframe thead th {\n        text-align: right;\n    }\n</style>\n<table border=\"1\" class=\"dataframe\">\n  <thead>\n    <tr style=\"text-align: right;\">\n      <th></th>\n      <th>t</th>\n      <th>p</th>\n    </tr>\n  </thead>\n  <tbody>\n    <tr>\n      <th>0</th>\n      <td>273</td>\n      <td>4.579</td>\n    </tr>\n    <tr>\n      <th>1</th>\n      <td>278</td>\n      <td>6.543</td>\n    </tr>\n    <tr>\n      <th>2</th>\n      <td>283</td>\n      <td>9.209</td>\n    </tr>\n    <tr>\n      <th>3</th>\n      <td>288</td>\n      <td>12.788</td>\n    </tr>\n    <tr>\n      <th>5</th>\n      <td>289</td>\n      <td>23.756</td>\n    </tr>\n    <tr>\n      <th>4</th>\n      <td>293</td>\n      <td>17.535</td>\n    </tr>\n  </tbody>\n</table>\n</div>"
     },
     "execution_count": 7,
     "metadata": {},
     "output_type": "execute_result"
    }
   ],
   "source": [
    "data = {\n",
    "    't': [273, 278, 283, 288, 293, 289],\n",
    "    'p': ['4,579', '6,543', '9,209', '12,788', '17,535', '23,756']\n",
    "}\n",
    "df = pd.DataFrame(data)\n",
    "df['p'] = df['p'].str.replace(',', '.').astype(float)\n",
    "\n",
    "# ajeitando a ordem dos valores\n",
    "df = df.sort_values(by=\"t\")\n",
    "p = df[\"p\"]\n",
    "t = df[\"t\"]\n",
    "df"
   ],
   "metadata": {
    "collapsed": false
   }
  },
  {
   "cell_type": "code",
   "execution_count": 8,
   "outputs": [
    {
     "data": {
      "text/plain": "(-6167.578681690415, 24.096270725016915)"
     },
     "execution_count": 8,
     "metadata": {},
     "output_type": "execute_result"
    }
   ],
   "source": [
    "y = np.log(p)\n",
    "x = 1 / t\n",
    "a, b = np.polyfit(x, y, 1)\n",
    "a, b"
   ],
   "metadata": {
    "collapsed": false
   }
  },
  {
   "cell_type": "code",
   "execution_count": 9,
   "outputs": [
    {
     "data": {
      "text/plain": "<Figure size 640x480 with 1 Axes>",
      "image/png": "[encoded data removed]"
     },
     "metadata": {},
     "output_type": "display_data"
    }
   ],
   "source": [
    "plt.plot(t, p, 'b.', label = 'Medições originais')\n",
    "plt.plot(t, np.exp(a/t + b), 'r-', label = 'Modelo de regressão linear')\n",
    "plt.legend(loc='upper center')\n",
    "plt.show()"
   ],
   "metadata": {
    "collapsed": false
   }
  }
 ],
 "metadata": {
  "kernelspec": {
   "display_name": "Python 3",
   "language": "python",
   "name": "python3"
  },
  "language_info": {
   "codemirror_mode": {
    "name": "ipython",
    "version": 2
   },
   "file_extension": ".py",
   "mimetype": "text/x-python",
   "name": "python",
   "nbconvert_exporter": "python",
   "pygments_lexer": "ipython2",
   "version": "2.7.6"
  }
 },
 "nbformat": 4,
 "nbformat_minor": 0
}
